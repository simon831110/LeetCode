{
 "metadata": {
  "language_info": {
   "codemirror_mode": {
    "name": "ipython",
    "version": 3
   },
   "file_extension": ".py",
   "mimetype": "text/x-python",
   "name": "python",
   "nbconvert_exporter": "python",
   "pygments_lexer": "ipython3",
   "version": "3.7.7-final"
  },
  "orig_nbformat": 2,
  "kernelspec": {
   "name": "Python 3.7.7 64-bit",
   "display_name": "Python 3.7.7 64-bit",
   "metadata": {
    "interpreter": {
     "hash": "a4ca0a1be38340d2e1b70bc6cc73081324f38c92d6b10994d2eeb96728463324"
    }
   }
  }
 },
 "nbformat": 4,
 "nbformat_minor": 2,
 "cells": [
  {
   "cell_type": "code",
   "execution_count": 9,
   "metadata": {},
   "outputs": [
    {
     "output_type": "stream",
     "name": "stdout",
     "text": [
      "[[-1, 0, 1], [-1, 2, -1], [0, 1, -1]]\n"
     ]
    }
   ],
   "source": [
    "def Sum(nums):\n",
    "    ans=[]\n",
    "    \n",
    "    if len(nums)<3:\n",
    "        return ans\n",
    "    else:\n",
    "        for i in range(len(nums)):\n",
    "            for j in range(i+1,len(nums)):\n",
    "                for k in range(j+1,len(nums)):\n",
    "                    if (nums[j]+nums[k])==(-1*nums[i]):\n",
    "                        ans.append([nums[i],nums[j],nums[k]])\n",
    "        return ans\n",
    "print(Sum([-1,0,1,2,-1,-4]))\n"
   ]
  },
  {
   "cell_type": "code",
   "execution_count": 6,
   "metadata": {
    "tags": []
   },
   "outputs": [
    {
     "output_type": "stream",
     "name": "stdout",
     "text": [
      "1 5\n2 5\n3 5\n4 5\n2 5\n3 4\n4 5\n[[-1, -1, 2], [-1, 0, 1]]\n"
     ]
    }
   ],
   "source": [
    "def Sum(nums):\n",
    "    ans=[]\n",
    "    nums=sorted(nums) \n",
    "    if len(nums)<3:\n",
    "            return ans\n",
    "    else:\n",
    "        for i in range(len(nums)):\n",
    "            if(i>0 and nums[i]==nums[i-1]):\n",
    "                continue\n",
    "            s=i+1\n",
    "            e=len(nums)-1\n",
    "            target=nums[i]*-1\n",
    "            while s<e:\n",
    "                if nums[s]+nums[e]==target:\n",
    "                    ans.append([nums[i],nums[s],nums[e]])\n",
    "                    s+=1\n",
    "                    e-=1\n",
    "                elif nums[s]+nums[e]<target:\n",
    "                    s+=1\n",
    "                else:\n",
    "                    e-=1           \n",
    "        return ans\n",
    "print(Sum([-1,0,1,2,-1,-4]))"
   ]
  },
  {
   "cell_type": "code",
   "execution_count": null,
   "metadata": {},
   "outputs": [],
   "source": []
  }
 ]
}