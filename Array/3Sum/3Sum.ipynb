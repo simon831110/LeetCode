{
 "metadata": {
  "language_info": {
   "codemirror_mode": {
    "name": "ipython",
    "version": 3
   },
   "file_extension": ".py",
   "mimetype": "text/x-python",
   "name": "python",
   "nbconvert_exporter": "python",
   "pygments_lexer": "ipython3",
   "version": "3.7.7-final"
  },
  "orig_nbformat": 2,
  "kernelspec": {
   "name": "Python 3.7.7 64-bit",
   "display_name": "Python 3.7.7 64-bit",
   "metadata": {
    "interpreter": {
     "hash": "a4ca0a1be38340d2e1b70bc6cc73081324f38c92d6b10994d2eeb96728463324"
    }
   }
  }
 },
 "nbformat": 4,
 "nbformat_minor": 2,
 "cells": [
  {
   "source": [
    "## 3Sum\n",
    "題目:給定一個Array，找出任意3個Element和為0的Array並輸出\n"
   ],
   "cell_type": "markdown",
   "metadata": {}
  },
  {
   "source": [
    "## 解題邏輯:\n",
    "   使用3層迴圈，第一層每次載入一個i另外兩層則在其他Element找相加為-i的2個數值j、k。\n",
    "## 時間複雜度:\n",
    "   N**3\n",
    "## 空間複雜度\n",
    "   N"
   ],
   "cell_type": "markdown",
   "metadata": {}
  },
  {
   "cell_type": "code",
   "execution_count": 9,
   "metadata": {},
   "outputs": [
    {
     "output_type": "stream",
     "name": "stdout",
     "text": [
      "[[-1, 0, 1], [-1, 2, -1], [0, 1, -1]]\n"
     ]
    }
   ],
   "source": [
    "def Sum(nums):\n",
    "    ans=[]\n",
    "    if len(nums)<3:\n",
    "        return ans\n",
    "    else:\n",
    "        for i in range(len(nums)):\n",
    "            for j in range(i+1,len(nums)):\n",
    "                for k in range(j+1,len(nums)):\n",
    "                    if (nums[j]+nums[k])==(-1*nums[i]):\n",
    "                        ans.append([nums[i],nums[j],nums[k]])\n",
    "        return ans\n",
    "print(Sum([-1,0,1,2,-1,-4]))\n"
   ]
  },
  {
   "source": [
    "## 解題邏輯:\n",
    "   首先對Array進行排序，使用for迴圈進行遍歷i並初始化2個值s、e，s為迴圈+1的位置，e為最後一個Array的位置。\n",
    "## 時間複雜度:\n",
    "   N**2\n",
    "## 空間複雜度\n",
    "   N"
   ],
   "cell_type": "markdown",
   "metadata": {}
  },
  {
   "cell_type": "code",
   "execution_count": 1,
   "metadata": {
    "tags": []
   },
   "outputs": [
    {
     "output_type": "stream",
     "name": "stdout",
     "text": [
      "[[-1, -1, 2], [-1, 0, 1]]\n"
     ]
    }
   ],
   "source": [
    "def Sum(nums):\n",
    "    ans=[]\n",
    "    nums=sorted(nums) \n",
    "    if len(nums)<3:\n",
    "            return ans\n",
    "    else:\n",
    "        for i in range(len(nums)):\n",
    "            if(i>0 and nums[i]==nums[i-1]):\n",
    "                continue\n",
    "            s=i+1\n",
    "            e=len(nums)-1\n",
    "            target=nums[i]*-1\n",
    "            while s<e:\n",
    "                if nums[s]+nums[e]==target:\n",
    "                    ans.append([nums[i],nums[s],nums[e]])\n",
    "                    s+=1\n",
    "                    e-=1\n",
    "                elif nums[s]+nums[e]<target:\n",
    "                    s+=1\n",
    "                else:\n",
    "                    e-=1           \n",
    "        return ans\n",
    "print(Sum([-1,0,1,2,-1,-4]))"
   ]
  },
  {
   "cell_type": "code",
   "execution_count": null,
   "metadata": {},
   "outputs": [],
   "source": []
  }
 ]
}