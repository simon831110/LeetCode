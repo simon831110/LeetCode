{
 "metadata": {
  "language_info": {
   "codemirror_mode": {
    "name": "ipython",
    "version": 3
   },
   "file_extension": ".py",
   "mimetype": "text/x-python",
   "name": "python",
   "nbconvert_exporter": "python",
   "pygments_lexer": "ipython3",
   "version": "3.7.7-final"
  },
  "orig_nbformat": 2,
  "kernelspec": {
   "name": "Python 3.7.7 64-bit",
   "display_name": "Python 3.7.7 64-bit",
   "metadata": {
    "interpreter": {
     "hash": "a4ca0a1be38340d2e1b70bc6cc73081324f38c92d6b10994d2eeb96728463324"
    }
   }
  }
 },
 "nbformat": 4,
 "nbformat_minor": 2,
 "cells": [
  {
   "source": [
    "## Group_Anagrams\n",
    "給定一組型態為Str的Array並將擁有相同字母的排在一起。"
   ],
   "cell_type": "markdown",
   "metadata": {}
  },
  {
   "source": [
    "## 思考邏輯:\n",
    "使用dictionary將sorted過後相同的str排在一起\n",
    "\n",
    "## 時間複雜度:\n",
    "N**2\n",
    "\n",
    "## 空間複雜度:\n",
    "N"
   ],
   "cell_type": "markdown",
   "metadata": {}
  },
  {
   "cell_type": "code",
   "execution_count": 2,
   "metadata": {},
   "outputs": [
    {
     "output_type": "stream",
     "name": "stdout",
     "text": [
      "[['eat', 'tea', 'ate'], ['tan', 'nat'], ['bat']]\n"
     ]
    }
   ],
   "source": [
    "def Anagrams(strs):\n",
    "    d=dict()\n",
    "    Anagram=[]\n",
    "    for s in strs:\n",
    "        sorted_s=''\n",
    "        if tuple(sorted(s)) not in d.keys():\n",
    "            d[tuple(sorted(s))]=[s]\n",
    "        else:\n",
    "            d[tuple(sorted(s))].append(s)\n",
    "    for d in d.values():\n",
    "        Anagram.append(d)\n",
    "    return Anagram\n",
    "Anagram=Anagrams([\"eat\",\"tea\",\"tan\",\"ate\",\"nat\",\"bat\"])\n",
    "print(Anagram)"
   ]
  }
 ]
}