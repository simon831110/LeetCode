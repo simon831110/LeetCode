{
 "metadata": {
  "language_info": {
   "codemirror_mode": {
    "name": "ipython",
    "version": 3
   },
   "file_extension": ".py",
   "mimetype": "text/x-python",
   "name": "python",
   "nbconvert_exporter": "python",
   "pygments_lexer": "ipython3",
   "version": "3.7.7-final"
  },
  "orig_nbformat": 2,
  "kernelspec": {
   "name": "Python 3.7.7 64-bit",
   "display_name": "Python 3.7.7 64-bit",
   "metadata": {
    "interpreter": {
     "hash": "a4ca0a1be38340d2e1b70bc6cc73081324f38c92d6b10994d2eeb96728463324"
    }
   }
  }
 },
 "nbformat": 4,
 "nbformat_minor": 2,
 "cells": [
  {
   "source": [
    "## Increasing Triplet Subsequence  Solution\n",
    "給定一組數字，若Array中有3個漸增的數字則回傳True，否則回傳False"
   ],
   "cell_type": "markdown",
   "metadata": {}
  },
  {
   "source": [
    "## 邏輯思考:\n",
    "預設2個值初始為INT得最大值，該值為找出第一小以及第二小的值若在迴圈結束時扔沒找到比該2值大的值則回傳False否則True。\n",
    "## 時間複雜度:\n",
    "N\n",
    "## 空間複雜度:\n",
    "2"
   ],
   "cell_type": "markdown",
   "metadata": {}
  },
  {
   "cell_type": "code",
   "execution_count": 4,
   "metadata": {},
   "outputs": [
    {
     "output_type": "execute_result",
     "data": {
      "text/plain": [
       "False"
      ]
     },
     "metadata": {},
     "execution_count": 4
    }
   ],
   "source": [
    "def Increasing_Triplet_Subsequence(nums):\n",
    "    array=[float(\"inf\"),float(\"inf\")]\n",
    "    for num in nums:\n",
    "        if num<=array[0]:\n",
    "            array[0]=num\n",
    "        elif num<=array[1]:\n",
    "            array[1]=num\n",
    "        else:\n",
    "            return True\n",
    "    return False\n",
    "\n",
    "Increasing_Triplet_Subsequence([1,2,1,2,2])"
   ]
  },
  {
   "cell_type": "code",
   "execution_count": null,
   "metadata": {},
   "outputs": [],
   "source": []
  }
 ]
}