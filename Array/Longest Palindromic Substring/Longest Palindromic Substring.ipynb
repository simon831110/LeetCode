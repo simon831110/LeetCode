{
 "metadata": {
  "language_info": {
   "codemirror_mode": {
    "name": "ipython",
    "version": 3
   },
   "file_extension": ".py",
   "mimetype": "text/x-python",
   "name": "python",
   "nbconvert_exporter": "python",
   "pygments_lexer": "ipython3",
   "version": "3.7.7-final"
  },
  "orig_nbformat": 2,
  "kernelspec": {
   "name": "Python 3.7.7 64-bit",
   "display_name": "Python 3.7.7 64-bit",
   "metadata": {
    "interpreter": {
     "hash": "a4ca0a1be38340d2e1b70bc6cc73081324f38c92d6b10994d2eeb96728463324"
    }
   }
  }
 },
 "nbformat": 4,
 "nbformat_minor": 2,
 "cells": [
  {
   "cell_type": "code",
   "execution_count": 30,
   "metadata": {},
   "outputs": [
    {
     "output_type": "execute_result",
     "data": {
      "text/plain": [
       "'aba'"
      ]
     },
     "metadata": {},
     "execution_count": 30
    }
   ],
   "source": [
    "def longestPalindrome(s):\n",
    "    longest=''\n",
    "    for i in range(len(s)):\n",
    "        odd=palindromeAt(s,i,i)         #搜尋奇數的對稱\n",
    "        even=palindromeAt(s,i,i+1)      #搜尋偶數的對稱\n",
    "        longest=max(odd,even,longest,key=len)\n",
    "    return longest\n",
    "def palindromeAt(s,left,right):\n",
    "    while(left>=0 and right<len(s) and s[left]==s[right]):\n",
    "        left-=1\n",
    "        right+=1\n",
    "    return s[left+1:right]\n",
    "longestPalindrome('cabad')"
   ]
  },
  {
   "cell_type": "code",
   "execution_count": null,
   "metadata": {},
   "outputs": [],
   "source": []
  }
 ]
}