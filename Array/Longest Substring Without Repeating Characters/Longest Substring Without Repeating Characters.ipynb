{
 "metadata": {
  "language_info": {
   "codemirror_mode": {
    "name": "ipython",
    "version": 3
   },
   "file_extension": ".py",
   "mimetype": "text/x-python",
   "name": "python",
   "nbconvert_exporter": "python",
   "pygments_lexer": "ipython3",
   "version": "3.7.7-final"
  },
  "orig_nbformat": 2,
  "kernelspec": {
   "name": "Python 3.7.7 64-bit",
   "display_name": "Python 3.7.7 64-bit",
   "metadata": {
    "interpreter": {
     "hash": "a4ca0a1be38340d2e1b70bc6cc73081324f38c92d6b10994d2eeb96728463324"
    }
   }
  }
 },
 "nbformat": 4,
 "nbformat_minor": 2,
 "cells": [
  {
   "source": [
    "## Longest Substring Without Repeating Characters\n",
    "給定一組字串，找出字串中最長且沒有重複的連續字母"
   ],
   "cell_type": "markdown",
   "metadata": {}
  },
  {
   "source": [
    "## 思考邏輯:\n",
    "先行宣告left以及right都為0，以及一個集合set，遍歷該字串若集合中沒有該字母，則right++，若集合中有該字母則移除左邊的字母並往前一格。\n",
    "\n",
    "## 時間複雜度:\n",
    "N\n",
    "\n",
    "## 空間複雜度:\n",
    "N"
   ],
   "cell_type": "markdown",
   "metadata": {}
  },
  {
   "cell_type": "code",
   "execution_count": 4,
   "metadata": {},
   "outputs": [
    {
     "output_type": "execute_result",
     "data": {
      "text/plain": [
       "3"
      ]
     },
     "metadata": {},
     "execution_count": 4
    }
   ],
   "source": [
    "def lengthOfLongestSubstring(s):\n",
    "    longest=left=right=0\n",
    "    sett=set()\n",
    "    while left<len(s) and right<len(s):\n",
    "        if s[right] not in sett:\n",
    "            sett.add(s[right])\n",
    "            right+=1\n",
    "            longest=max(longest,right-left)\n",
    "        else:\n",
    "            sett.remove(s[left])\n",
    "            left+=1\n",
    "    return longest\n",
    "lengthOfLongestSubstring(\"pwwkew\")"
   ]
  }
 ]
}