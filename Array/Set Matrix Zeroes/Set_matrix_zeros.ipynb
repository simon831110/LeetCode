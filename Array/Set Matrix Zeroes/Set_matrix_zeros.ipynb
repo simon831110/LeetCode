{
 "metadata": {
  "language_info": {
   "codemirror_mode": {
    "name": "ipython",
    "version": 3
   },
   "file_extension": ".py",
   "mimetype": "text/x-python",
   "name": "python",
   "nbconvert_exporter": "python",
   "pygments_lexer": "ipython3",
   "version": "3.7.7-final"
  },
  "orig_nbformat": 2,
  "kernelspec": {
   "name": "Python 3.7.7 64-bit",
   "display_name": "Python 3.7.7 64-bit",
   "metadata": {
    "interpreter": {
     "hash": "a4ca0a1be38340d2e1b70bc6cc73081324f38c92d6b10994d2eeb96728463324"
    }
   }
  }
 },
 "nbformat": 4,
 "nbformat_minor": 2,
 "cells": [
  {
   "cell_type": "code",
   "execution_count": 2,
   "metadata": {},
   "outputs": [
    {
     "output_type": "stream",
     "name": "stdout",
     "text": [
      "[[0, 0, 0, 0], [0, 4, 5, 0], [0, 3, 1, 0]]\n"
     ]
    }
   ],
   "source": [
    "def Set(matrix):\n",
    "    rows=[]\n",
    "    cols=[]\n",
    "    for row in range(len(matrix)):\n",
    "        for col in range(len(matrix[0])):\n",
    "            if matrix[row][col]==0:\n",
    "                rows.append(row)\n",
    "                cols.append(col)\n",
    "    for col in range(len(matrix[0])):\n",
    "        for row in rows:\n",
    "            matrix[row][col]=0\n",
    "    for row in range(len(matrix)):\n",
    "        for col in cols:\n",
    "            matrix[row][col]=0\n",
    "    return matrix\n",
    "print(Set([[0,1,2,0],[3,4,5,2],[1,3,1,5]]))"
   ]
  },
  {
   "cell_type": "code",
   "execution_count": 11,
   "metadata": {},
   "outputs": [
    {
     "output_type": "stream",
     "name": "stdout",
     "text": [
      "[[0, 0, 3, 0], [0, 0, 7, 8], [0, 10, 11, 12], [0, 14, 15, 0]]\n[[0, 0, 3, 0], [0, 0, 0, 0], [0, 0, 0, 0], [0, 0, 0, 0]]\n"
     ]
    }
   ],
   "source": [
    "def Set(matrix):\n",
    "    nums_row=len(matrix)\n",
    "    nums_col=len(matrix[0])\n",
    "    FirstRowZero=False\n",
    "    for col in range(nums_col):\n",
    "        if matrix[0][col]==0:\n",
    "            FirstRowZero=True\n",
    "    for row in range(nums_row):\n",
    "        for col in range(nums_col):\n",
    "            if matrix[row][col]==0:\n",
    "                matrix[0][col]=0\n",
    "                matrix[row][0]=0\n",
    "    print(matrix)\n",
    "    for row in range(nums_row-1,0,-1):\n",
    "        for col in range(nums_col-1,-1,-1):\n",
    "            if matrix[0][col]==0 or matrix[row][0]==0:\n",
    "                matrix[row][col]=0\n",
    "    if FirstRowZero:\n",
    "        for col in range(nums_col):\n",
    "            matrix[0][col]=0\n",
    "    return matrix\n",
    "print(Set([[1,2,3,4],[5,0,7,8],[0,10,11,12],[13,14,15,0]]))"
   ]
  },
  {
   "cell_type": "code",
   "execution_count": null,
   "metadata": {},
   "outputs": [],
   "source": []
  }
 ]
}