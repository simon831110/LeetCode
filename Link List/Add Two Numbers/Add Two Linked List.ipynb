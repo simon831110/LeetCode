{
 "metadata": {
  "language_info": {
   "codemirror_mode": {
    "name": "ipython",
    "version": 3
   },
   "file_extension": ".py",
   "mimetype": "text/x-python",
   "name": "python",
   "nbconvert_exporter": "python",
   "pygments_lexer": "ipython3",
   "version": 3
  },
  "orig_nbformat": 2
 },
 "nbformat": 4,
 "nbformat_minor": 2,
 "cells": [
  {
   "source": [
    "## Linked List\n",
    "初始值為鏈結串列尾部的點，使用next以及val獲取該值\n",
    "## Add Two Linked Lists\n",
    "將兩個鏈結串列相加"
   ],
   "cell_type": "markdown",
   "metadata": {}
  },
  {
   "source": [
    "## 解題思路:\n",
    "由尾端將兩個陣列相加，若該位置沒值則為0並以c紀錄是否進位\n",
    "## 時間複雜度:\n",
    "N\n",
    "## 空間複雜度:\n",
    "N\n"
   ],
   "cell_type": "markdown",
   "metadata": {}
  },
  {
   "cell_type": "code",
   "execution_count": null,
   "metadata": {},
   "outputs": [],
   "source": [
    "def addTwoNumber(l1,l2)\n",
    "    p=ListNode(0)\n",
    "    p_tail=p\n",
    "    c=0\n",
    "    while l1 or l2 or c:\n",
    "        l1_temp=l1.val if l1 else 0\n",
    "        l2_temp=l2.val if l2 else 0\n",
    "        p_tail.next.val=(l1_temp+l2_temp+c)%10\n",
    "        c=(l1_temp+l2_temp+c)//10\n",
    "        if l1:\n",
    "            l1=l1.next\n",
    "        if l2:\n",
    "            l2=l2.next\n",
    "        p_tail=p_tail.next\n",
    "    return p.next"
   ]
  }
 ]
}