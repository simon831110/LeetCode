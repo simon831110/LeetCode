{
 "metadata": {
  "language_info": {
   "codemirror_mode": {
    "name": "ipython",
    "version": 3
   },
   "file_extension": ".py",
   "mimetype": "text/x-python",
   "name": "python",
   "nbconvert_exporter": "python",
   "pygments_lexer": "ipython3",
   "version": "3.7.7-final"
  },
  "orig_nbformat": 2,
  "kernelspec": {
   "name": "Python 3.7.7 64-bit",
   "display_name": "Python 3.7.7 64-bit",
   "metadata": {
    "interpreter": {
     "hash": "a4ca0a1be38340d2e1b70bc6cc73081324f38c92d6b10994d2eeb96728463324"
    }
   }
  }
 },
 "nbformat": 4,
 "nbformat_minor": 2,
 "cells": [
  {
   "cell_type": "code",
   "execution_count": 19,
   "metadata": {},
   "outputs": [],
   "source": [
    "class ListNode(object):\n",
    "    def __init__(self, x):\n",
    "        self.val = x\n",
    "        self.next = None"
   ]
  },
  {
   "cell_type": "code",
   "execution_count": 20,
   "metadata": {},
   "outputs": [],
   "source": [
    "def getIntersectionNode(headA, headB):\n",
    "    pa=headA\n",
    "    pb=headB\n",
    "    while pa.val!=pb.val:\n",
    "        print(pa.val,pb.val)\n",
    "        pa=pa.next if pa.next!=None else headB\n",
    "        pb=pb.next if pb.next!=None else headA\n",
    "    return pa"
   ]
  },
  {
   "source": [
    "headA=ListNode(0)\n",
    "pa=headA\n",
    "for i in range(1,10):\n",
    "    pa.next=ListNode(i)\n",
    "    pa=pa.next\n",
    "\n",
    "headB=ListNode(9)\n",
    "pb=headB\n",
    "for i in range(7,10):\n",
    "    pb.next=ListNode(i)\n",
    "    pb=pb.next\n",
    "\n",
    "pi=getIntersectionNode(headA, headB)\n",
    "print(pi.val)"
   ],
   "cell_type": "code",
   "metadata": {},
   "execution_count": 21,
   "outputs": [
    {
     "output_type": "stream",
     "name": "stdout",
     "text": [
      "0 9\n1 7\n2 8\n3 9\n4 0\n5 1\n6 2\n7 3\n8 4\n9 5\n9 6\n7\n"
     ]
    }
   ]
  },
  {
   "cell_type": "code",
   "execution_count": null,
   "metadata": {},
   "outputs": [],
   "source": []
  }
 ]
}