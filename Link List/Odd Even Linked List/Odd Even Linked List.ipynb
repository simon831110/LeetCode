{
 "metadata": {
  "language_info": {
   "codemirror_mode": {
    "name": "ipython",
    "version": 3
   },
   "file_extension": ".py",
   "mimetype": "text/x-python",
   "name": "python",
   "nbconvert_exporter": "python",
   "pygments_lexer": "ipython3",
   "version": "3.7.7-final"
  },
  "orig_nbformat": 2,
  "kernelspec": {
   "name": "Python 3.7.7 64-bit",
   "display_name": "Python 3.7.7 64-bit",
   "metadata": {
    "interpreter": {
     "hash": "a4ca0a1be38340d2e1b70bc6cc73081324f38c92d6b10994d2eeb96728463324"
    }
   }
  }
 },
 "nbformat": 4,
 "nbformat_minor": 2,
 "cells": [
  {
   "source": [
    "## Odd Even Linked List\n",
    "給定一組Linked List依照奇數位後面接偶數位排列"
   ],
   "cell_type": "markdown",
   "metadata": {}
  },
  {
   "source": [
    "## 解題思路:\n",
    "預設兩組Linked Lists用來存放奇數以及偶數的值最終將偶數Linked List接在奇數後面\n",
    "\n",
    "## 時間複雜度\n",
    "N\n",
    "## 空間複雜度\n",
    "1"
   ],
   "cell_type": "markdown",
   "metadata": {}
  },
  {
   "cell_type": "code",
   "execution_count": 44,
   "metadata": {},
   "outputs": [],
   "source": [
    "class ListNode(object):\n",
    "    def __init__(self, val=0, next=None):\n",
    "        self.val = val\n",
    "        self.next = next"
   ]
  },
  {
   "cell_type": "code",
   "execution_count": 45,
   "metadata": {},
   "outputs": [],
   "source": [
    "def oddEvenList(head):\n",
    "    odd=ListNode(0)\n",
    "    even=ListNode(0)\n",
    "    odd_Head,even_Head=odd,even\n",
    "    t=1\n",
    "    while head:\n",
    "        if(t%2==1):\n",
    "            odd_Head.next=head\n",
    "            odd_Head=odd_Head.next\n",
    "        else:\n",
    "            even_Head.next=head\n",
    "            even_Head=even_Head.next\n",
    "        t+=1\n",
    "        head=head.next\n",
    "    even_Head.next=None\n",
    "    odd_Head.next=even.next\n",
    "    return odd.next"
   ]
  },
  {
   "cell_type": "code",
   "execution_count": 46,
   "metadata": {
    "tags": []
   },
   "outputs": [
    {
     "output_type": "stream",
     "name": "stdout",
     "text": [
      "5\n1\n3\n0\n2\n4\n"
     ]
    }
   ],
   "source": [
    "l1=ListNode(5)\n",
    "l1_Head=l1\n",
    "for i in range(5):\n",
    "    l1_Head.next=ListNode(i)\n",
    "    l1_Head=l1_Head.next\n",
    "l2=oddEvenList(l1)\n",
    "\n",
    "while l2:\n",
    "    print(l2.val)\n",
    "    l2=l2.next"
   ]
  },
  {
   "cell_type": "code",
   "execution_count": 47,
   "metadata": {},
   "outputs": [
    {
     "output_type": "error",
     "ename": "SyntaxError",
     "evalue": "invalid syntax (<ipython-input-47-fa82fd0a54bb>, line 1)",
     "traceback": [
      "\u001b[1;36m  File \u001b[1;32m\"<ipython-input-47-fa82fd0a54bb>\"\u001b[1;36m, line \u001b[1;32m1\u001b[0m\n\u001b[1;33m    5 0 1 2 3 4->5 1 3 0 2 4\u001b[0m\n\u001b[1;37m      ^\u001b[0m\n\u001b[1;31mSyntaxError\u001b[0m\u001b[1;31m:\u001b[0m invalid syntax\n"
     ]
    }
   ],
   "source": [
    "5 0 1 2 3 4->5 1 3 0 2 4"
   ]
  }
 ]
}