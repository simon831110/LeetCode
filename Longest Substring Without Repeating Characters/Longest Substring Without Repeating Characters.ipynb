{
 "metadata": {
  "language_info": {
   "codemirror_mode": {
    "name": "ipython",
    "version": 3
   },
   "file_extension": ".py",
   "mimetype": "text/x-python",
   "name": "python",
   "nbconvert_exporter": "python",
   "pygments_lexer": "ipython3",
   "version": "3.7.7-final"
  },
  "orig_nbformat": 2,
  "kernelspec": {
   "name": "Python 3.7.7 64-bit",
   "display_name": "Python 3.7.7 64-bit",
   "metadata": {
    "interpreter": {
     "hash": "a4ca0a1be38340d2e1b70bc6cc73081324f38c92d6b10994d2eeb96728463324"
    }
   }
  }
 },
 "nbformat": 4,
 "nbformat_minor": 2,
 "cells": [
  {
   "cell_type": "code",
   "execution_count": 1,
   "metadata": {},
   "outputs": [
    {
     "output_type": "execute_result",
     "data": {
      "text/plain": [
       "1"
      ]
     },
     "metadata": {},
     "execution_count": 1
    }
   ],
   "source": [
    "def lengthOfLongestSubstring(s):\n",
    "    longest=left=right=0\n",
    "    sett=set()\n",
    "    while left<len(s) and right<len(s):\n",
    "        if s[right] not in sett:\n",
    "            sett.add(s[right])\n",
    "            right+=1\n",
    "            longest=max(longest,right-left)\n",
    "        else:\n",
    "            left+=1\n",
    "            right=left\n",
    "            sett=set()\n",
    "    return longest\n",
    "lengthOfLongestSubstring(\"\"pwwkew\"\")"
   ]
  },
  {
   "cell_type": "code",
   "execution_count": null,
   "metadata": {},
   "outputs": [],
   "source": []
  }
 ]
}