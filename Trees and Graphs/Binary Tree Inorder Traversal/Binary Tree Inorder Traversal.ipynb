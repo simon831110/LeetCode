{
 "metadata": {
  "language_info": {
   "codemirror_mode": {
    "name": "ipython",
    "version": 3
   },
   "file_extension": ".py",
   "mimetype": "text/x-python",
   "name": "python",
   "nbconvert_exporter": "python",
   "pygments_lexer": "ipython3",
   "version": "3.7.7-final"
  },
  "orig_nbformat": 2,
  "kernelspec": {
   "name": "Python 3.7.7 64-bit",
   "display_name": "Python 3.7.7 64-bit",
   "metadata": {
    "interpreter": {
     "hash": "a4ca0a1be38340d2e1b70bc6cc73081324f38c92d6b10994d2eeb96728463324"
    }
   }
  }
 },
 "nbformat": 4,
 "nbformat_minor": 2,
 "cells": [
  {
   "source": [
    "## Binary Tree Inorder Traversal\n",
    "使用Inorder的方式對一棵樹進行遍歷"
   ],
   "cell_type": "markdown",
   "metadata": {}
  },
  {
   "source": [
    "## 解題思維\n",
    "首先遍歷整棵樹的左邊子樹並存放進stack並由最後一個往前將節點的值存放進答案中並探訪其右邊子樹\n",
    "## 時間複雜度\n",
    "N\n",
    "## 空間複雜度\n",
    "1"
   ],
   "cell_type": "markdown",
   "metadata": {}
  },
  {
   "cell_type": "code",
   "execution_count": 13,
   "metadata": {},
   "outputs": [],
   "source": [
    "class TreeNode(object):\n",
    "    def __init__(self, val=0, left=None, right=None):\n",
    "        self.val = val\n",
    "        self.left = left\n",
    "        self.right = right\n",
    "\n",
    "def inorderTraversal(root):\n",
    "    ans,stack=[],[]\n",
    "    while True:\n",
    "        while root:\n",
    "            stack.append(root)\n",
    "            root=root.left\n",
    "        if not stack:\n",
    "            return ans\n",
    "        root=stack.pop()\n",
    "        ans.append(root.val)\n",
    "        root=root.right"
   ]
  },
  {
   "cell_type": "code",
   "execution_count": 14,
   "metadata": {},
   "outputs": [],
   "source": [
    "six=TreeNode(4)\n",
    "seven=TreeNode(5)\n",
    "four=TreeNode(2,six)\n",
    "five=TreeNode(3,None,seven)\n",
    "two=TreeNode(1,four,five)\n",
    "three=TreeNode(6)\n",
    "one=TreeNode(\"r\",two,three)"
   ]
  },
  {
   "cell_type": "code",
   "execution_count": 15,
   "metadata": {},
   "outputs": [
    {
     "output_type": "execute_result",
     "data": {
      "text/plain": [
       "[4, 2, 1, 3, 5, 'r', 6]"
      ]
     },
     "metadata": {},
     "execution_count": 15
    }
   ],
   "source": [
    "inorderTraversal(one)"
   ]
  },
  {
   "cell_type": "code",
   "execution_count": null,
   "metadata": {},
   "outputs": [],
   "source": []
  }
 ]
}