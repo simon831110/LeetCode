{
 "metadata": {
  "language_info": {
   "codemirror_mode": {
    "name": "ipython",
    "version": 3
   },
   "file_extension": ".py",
   "mimetype": "text/x-python",
   "name": "python",
   "nbconvert_exporter": "python",
   "pygments_lexer": "ipython3",
   "version": "3.7.7-final"
  },
  "orig_nbformat": 2,
  "kernelspec": {
   "name": "Python 3.7.7 64-bit",
   "display_name": "Python 3.7.7 64-bit",
   "metadata": {
    "interpreter": {
     "hash": "a4ca0a1be38340d2e1b70bc6cc73081324f38c92d6b10994d2eeb96728463324"
    }
   }
  }
 },
 "nbformat": 4,
 "nbformat_minor": 2,
 "cells": [
  {
   "source": [
    "## Binary Tree Zigzag Level Order Traversal\n",
    "將樹依照層級排序第一列由左至右第二列由右至左以此類推"
   ],
   "cell_type": "markdown",
   "metadata": {}
  },
  {
   "source": [
    "## 解題邏輯\n",
    "設置queue用來遍歷每一個節點，temp用來暫存每一層的節點，flag用來記錄左至右或右到左。\n",
    "## 時間複雜度\n",
    "N\n",
    "## 空間複雜度\n",
    "N"
   ],
   "cell_type": "markdown",
   "metadata": {}
  },
  {
   "cell_type": "code",
   "execution_count": 14,
   "metadata": {},
   "outputs": [],
   "source": [
    "class TreeNode(object):\n",
    "    def __init__(self, val=0, left=None, right=None):\n",
    "        self.val = val\n",
    "        self.left = left\n",
    "        self.right = right\n",
    "def zigzagLevelOrder(root):\n",
    "    queue,temp,flag,ans=[root],[],1,[]\n",
    "    while queue:\n",
    "        for i in range(len(queue)):\n",
    "            node=queue.pop(0)\n",
    "            temp+=[node.val]\n",
    "            if node.left: queue+=[node.left]\n",
    "            if node.right: queue+=[node.right]\n",
    "        ans+=[temp[::flag]]\n",
    "        temp=[]\n",
    "        flag*=-1\n",
    "    return ans"
   ]
  },
  {
   "cell_type": "code",
   "execution_count": 15,
   "metadata": {},
   "outputs": [],
   "source": [
    "six=TreeNode(4)\n",
    "seven=TreeNode(5)\n",
    "four=TreeNode(2,six)\n",
    "five=TreeNode(3,None,seven)\n",
    "two=TreeNode(1,four,five)\n",
    "three=TreeNode(6)\n",
    "one=TreeNode(\"r\",two,three)"
   ]
  },
  {
   "cell_type": "code",
   "execution_count": 16,
   "metadata": {},
   "outputs": [
    {
     "output_type": "execute_result",
     "data": {
      "text/plain": [
       "[['r'], [6, 1], [2, 3], [5, 4]]"
      ]
     },
     "metadata": {},
     "execution_count": 16
    }
   ],
   "source": [
    "zigzagLevelOrder(one)"
   ]
  },
  {
   "cell_type": "code",
   "execution_count": null,
   "metadata": {},
   "outputs": [],
   "source": []
  }
 ]
}