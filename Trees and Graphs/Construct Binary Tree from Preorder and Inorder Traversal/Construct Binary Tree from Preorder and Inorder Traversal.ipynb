{
 "metadata": {
  "language_info": {
   "codemirror_mode": {
    "name": "ipython",
    "version": 3
   },
   "file_extension": ".py",
   "mimetype": "text/x-python",
   "name": "python",
   "nbconvert_exporter": "python",
   "pygments_lexer": "ipython3",
   "version": "3.7.7-final"
  },
  "orig_nbformat": 2,
  "kernelspec": {
   "name": "Python 3.7.7 64-bit",
   "display_name": "Python 3.7.7 64-bit",
   "metadata": {
    "interpreter": {
     "hash": "a4ca0a1be38340d2e1b70bc6cc73081324f38c92d6b10994d2eeb96728463324"
    }
   }
  }
 },
 "nbformat": 4,
 "nbformat_minor": 2,
 "cells": [
  {
   "source": [
    "## Construct Binary Tree from Preorder and Inorder Traversal\n",
    "給定preorder排序以及inorder排序建出一棵樹"
   ],
   "cell_type": "markdown",
   "metadata": {}
  },
  {
   "source": [
    "## 邏輯思考\n",
    "preorder前面為root而inorder以此root作為分割為左右子樹並分開使用recurive迭代\n",
    "## 時間複雜度\n",
    "N(proorder)\n",
    "## 空間複雜度\n",
    "1"
   ],
   "cell_type": "markdown",
   "metadata": {}
  },
  {
   "cell_type": "code",
   "execution_count": 6,
   "metadata": {},
   "outputs": [],
   "source": [
    "class TreeNode(object):\n",
    "    def __init__(self, val=0, left=None, right=None):\n",
    "        self.val = val\n",
    "        self.left = left\n",
    "        self.right = right\n",
    "def buildTree(preorder, inorder):\n",
    "    if not preorder or not inorder:\n",
    "        return None\n",
    "    root=TreeNode(preorder.pop(0))\n",
    "    inorder_idx=inorder.index(root.val)\n",
    "\n",
    "    root.left=buildTree(preorder,inorder[:inorder_idx])\n",
    "    root.right=buildTree(preorder,inorder[inorder_idx+1:])\n",
    "    return root"
   ]
  },
  {
   "cell_type": "code",
   "execution_count": 7,
   "metadata": {},
   "outputs": [
    {
     "output_type": "execute_result",
     "data": {
      "text/plain": [
       "[[3], [9, 20], [15, 7]]"
      ]
     },
     "metadata": {},
     "execution_count": 7
    }
   ],
   "source": [
    "Tree=buildTree([3,9,20,15,7],[9,3,15,20,7])\n",
    "\n",
    "ans,temp,queue=[],[],[Tree]\n",
    "\n",
    "while queue:\n",
    "    for i in range(len(queue)):\n",
    "        node=queue.pop(0)\n",
    "        temp+=[node.val]\n",
    "        if node.left: queue+=[node.left]\n",
    "        if node.right: queue+=[node.right]\n",
    "    ans+=[temp]\n",
    "    temp=[]\n",
    "ans"
   ]
  },
  {
   "cell_type": "code",
   "execution_count": null,
   "metadata": {},
   "outputs": [],
   "source": []
  }
 ]
}