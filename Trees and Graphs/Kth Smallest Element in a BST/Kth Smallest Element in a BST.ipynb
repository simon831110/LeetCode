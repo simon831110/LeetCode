{
 "metadata": {
  "language_info": {
   "codemirror_mode": {
    "name": "ipython",
    "version": 3
   },
   "file_extension": ".py",
   "mimetype": "text/x-python",
   "name": "python",
   "nbconvert_exporter": "python",
   "pygments_lexer": "ipython3",
   "version": "3.7.7-final"
  },
  "orig_nbformat": 2,
  "kernelspec": {
   "name": "Python 3.7.7 64-bit",
   "display_name": "Python 3.7.7 64-bit",
   "metadata": {
    "interpreter": {
     "hash": "a4ca0a1be38340d2e1b70bc6cc73081324f38c92d6b10994d2eeb96728463324"
    }
   }
  }
 },
 "nbformat": 4,
 "nbformat_minor": 2,
 "cells": [
  {
   "source": [
    "## Kth Smallest Element in a BST\n",
    "\n",
    "給定一顆二元搜尋樹，以及1個K值，找出第K小得值並回傳"
   ],
   "cell_type": "markdown",
   "metadata": {}
  },
  {
   "source": [
    "## 解題邏輯\n",
    "\n",
    "遞歸的遍歷左子樹(因為左邊的點小於父節點以及右節點)從下面往上數若找出第K個則回傳\n",
    "## 時間複雜度\n",
    "N\n",
    "## 空間複雜度\n",
    "1"
   ],
   "cell_type": "markdown",
   "metadata": {}
  },
  {
   "cell_type": "code",
   "execution_count": 32,
   "metadata": {},
   "outputs": [],
   "source": [
    "class TreeNode(object):\n",
    "    def __init__(self, val=0, left=None, right=None):\n",
    "        self.val = val\n",
    "        self.left = left\n",
    "        self.right = right\n",
    "global kk,res\n",
    "def helper(node):\n",
    "    global kk,res\n",
    "    if not node:\n",
    "        return\n",
    "    helper(node.left)\n",
    "    kk-=1\n",
    "    if kk==0:\n",
    "        res=node.val\n",
    "        return\n",
    "    helper(node.right)\n",
    "\n",
    "def kthSmallest(root, k):\n",
    "    global res,kk\n",
    "    kk=k\n",
    "    helper(root)\n",
    "    return res"
   ]
  },
  {
   "cell_type": "code",
   "execution_count": 40,
   "metadata": {},
   "outputs": [
    {
     "output_type": "stream",
     "name": "stdout",
     "text": [
      "6\n"
     ]
    }
   ],
   "source": [
    "six=TreeNode(5)\n",
    "seven=TreeNode(7)\n",
    "four=TreeNode(1)\n",
    "five=TreeNode(3)\n",
    "two=TreeNode(2,four,five)\n",
    "three=TreeNode(6,six,seven)\n",
    "one=TreeNode(4,two,three)\n",
    "\n",
    "print(kthSmallest(one,6))"
   ]
  },
  {
   "cell_type": "code",
   "execution_count": null,
   "metadata": {},
   "outputs": [],
   "source": []
  }
 ]
}