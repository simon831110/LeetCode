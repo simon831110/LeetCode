{
 "metadata": {
  "language_info": {
   "codemirror_mode": {
    "name": "ipython",
    "version": 3
   },
   "file_extension": ".py",
   "mimetype": "text/x-python",
   "name": "python",
   "nbconvert_exporter": "python",
   "pygments_lexer": "ipython3",
   "version": "3.7.7-final"
  },
  "orig_nbformat": 2,
  "kernelspec": {
   "name": "Python 3.7.7 64-bit",
   "display_name": "Python 3.7.7 64-bit",
   "metadata": {
    "interpreter": {
     "hash": "a4ca0a1be38340d2e1b70bc6cc73081324f38c92d6b10994d2eeb96728463324"
    }
   }
  }
 },
 "nbformat": 4,
 "nbformat_minor": 2,
 "cells": [
  {
   "source": [
    "## Number of Islands\n",
    "給定一個二元矩陣其中只有\"1\"以及\"0\"，\"1\"代表陸地，\"0\"代表水，請找出其中有幾個獨立的島嶼。"
   ],
   "cell_type": "markdown",
   "metadata": {}
  },
  {
   "source": [
    "## 解題邏輯\n",
    "遍歷二元矩陣，若找到\"1\"則使用dfs(該值周遭都進行遍歷，並把\"1\"標為\"0\")，並進行計數。\n",
    "\n",
    "## 時間複雜度\n",
    "N^2\n",
    "## 空間複雜度\n",
    "1"
   ],
   "cell_type": "markdown",
   "metadata": {}
  },
  {
   "cell_type": "code",
   "execution_count": 7,
   "metadata": {},
   "outputs": [],
   "source": [
    "global len_r,len_c\n",
    "def dfs(grid,i,j):\n",
    "    global len_r,len_c\n",
    "    if len_r>i>=0 and len_c>j>=0 and grid[i][j]=='1':\n",
    "        grid[i][j]='0'\n",
    "        dfs(grid,i+1,j)\n",
    "        dfs(grid,i-1,j)\n",
    "        dfs(grid,i,j+1)\n",
    "        dfs(grid,i,j-1)\n",
    "\n",
    "def numIslands(grid):\n",
    "    global len_r,len_c\n",
    "    len_r,len_c=len(grid),len(grid[0])\n",
    "    sum=0\n",
    "    for r in range(len_r):\n",
    "        for c in range(len_c):\n",
    "            if grid[r][c]=='1':\n",
    "                sum+=1\n",
    "                dfs(grid,r,c)\n",
    "    return sum"
   ]
  },
  {
   "cell_type": "code",
   "execution_count": 8,
   "metadata": {},
   "outputs": [
    {
     "output_type": "stream",
     "name": "stdout",
     "text": [
      "3\n"
     ]
    }
   ],
   "source": [
    "print(numIslands([\n",
    "  [\"1\",\"1\",\"0\",\"0\",\"0\"],\n",
    "  [\"1\",\"1\",\"0\",\"0\",\"0\"],\n",
    "  [\"0\",\"0\",\"1\",\"0\",\"0\"],\n",
    "  [\"0\",\"0\",\"0\",\"1\",\"1\"]\n",
    "]))"
   ]
  }
 ]
}