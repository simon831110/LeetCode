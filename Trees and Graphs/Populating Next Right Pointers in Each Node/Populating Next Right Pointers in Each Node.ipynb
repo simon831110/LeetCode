{
 "metadata": {
  "language_info": {
   "codemirror_mode": {
    "name": "ipython",
    "version": 3
   },
   "file_extension": ".py",
   "mimetype": "text/x-python",
   "name": "python",
   "nbconvert_exporter": "python",
   "pygments_lexer": "ipython3",
   "version": "3.7.7-final"
  },
  "orig_nbformat": 2,
  "kernelspec": {
   "name": "Python 3.7.7 64-bit",
   "display_name": "Python 3.7.7 64-bit",
   "metadata": {
    "interpreter": {
     "hash": "a4ca0a1be38340d2e1b70bc6cc73081324f38c92d6b10994d2eeb96728463324"
    }
   }
  }
 },
 "nbformat": 4,
 "nbformat_minor": 2,
 "cells": [
  {
   "source": [
    "## Populating Next Right Pointers in Each Node\n",
    "給定一棵complete樹並多出\"next\"用來記錄右邊是否有節點，若是在最右邊則next為None"
   ],
   "cell_type": "markdown",
   "metadata": {}
  },
  {
   "source": [
    "## 解題思路\n",
    "給定一個cur紀錄當前位置，並遍歷至倒數第二層查看其使用\"next\"紀錄最左邊節點的位置\n",
    "\n",
    "## 時間複雜度\n",
    "N\n",
    "\n",
    "## 空間複雜度\n",
    "1 "
   ],
   "cell_type": "markdown",
   "metadata": {}
  },
  {
   "cell_type": "code",
   "execution_count": 19,
   "metadata": {},
   "outputs": [],
   "source": [
    "class TreeNode(object):\n",
    "    def __init__(self, val=0, left=None, right=None, next=None):\n",
    "        self.val = val\n",
    "        self.left = left\n",
    "        self.right = right\n",
    "        self.next = next\n",
    "\n",
    "def connect(root):\n",
    "    if not root:\n",
    "        return None\n",
    "    cur=root\n",
    "    next=root.left\n",
    "    #遍歷至倒數第二層之前\n",
    "    while cur.left:\n",
    "        cur.left.next=cur.right\n",
    "        #若尚未到最右邊的節點\n",
    "        if cur.next:\n",
    "            cur.right.next=cur.next.left\n",
    "            cur=cur.next\n",
    "        #到達最右邊的節點時\n",
    "        else:\n",
    "            cur=next\n",
    "            next=cur.left\n",
    "    return root"
   ]
  },
  {
   "cell_type": "code",
   "execution_count": 20,
   "metadata": {},
   "outputs": [
    {
     "output_type": "execute_result",
     "data": {
      "text/plain": [
       "[['r'], [1, 6], [2, 3, 4, 5]]"
      ]
     },
     "metadata": {},
     "execution_count": 20
    }
   ],
   "source": [
    "six=TreeNode(4)\n",
    "seven=TreeNode(5)\n",
    "four=TreeNode(2)\n",
    "five=TreeNode(3)\n",
    "two=TreeNode(1,four,five)\n",
    "three=TreeNode(6,six,seven)\n",
    "one=TreeNode(\"r\",two,three)\n",
    "\n",
    "Tree=connect(one)\n",
    "\n",
    "temp,queue,ans=[],[],[]\n",
    "\n",
    "while Tree:\n",
    "    cur=Tree\n",
    "    while cur:\n",
    "        temp.append(cur.val)\n",
    "        cur=cur.next\n",
    "    ans+=[temp]\n",
    "    temp=[]\n",
    "    Tree=Tree.left\n",
    "ans"
   ]
  }
 ]
}